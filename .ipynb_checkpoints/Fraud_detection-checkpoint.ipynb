{
 "cells": [
  {
   "cell_type": "code",
   "execution_count": 1,
   "metadata": {
    "ExecuteTime": {
     "end_time": "2023-07-03T16:15:59.265918400Z",
     "start_time": "2023-07-03T16:15:52.011089200Z"
    },
    "collapsed": true
   },
   "outputs": [],
   "source": [
    "import tensorflow as tf\n",
    "import numpy as np\n",
    "import pandas as pd\n",
    "from matplotlib import pyplot as plt\n",
    "import seaborn as sns"
   ]
  },
  {
   "cell_type": "code",
   "execution_count": 2,
   "metadata": {
    "ExecuteTime": {
     "end_time": "2023-07-03T16:16:14.523681600Z",
     "start_time": "2023-07-03T16:15:59.268915900Z"
    }
   },
   "outputs": [],
   "source": [
    "data =  pd.read_csv(\"transactions_train.csv\")"
   ]
  },
  {
   "cell_type": "code",
   "execution_count": 3,
   "metadata": {
    "ExecuteTime": {
     "end_time": "2023-07-03T16:16:14.576650100Z",
     "start_time": "2023-07-03T16:16:14.524680200Z"
    }
   },
   "outputs": [
    {
     "data": {
      "text/html": [
       "<div>\n",
       "<style scoped>\n",
       "    .dataframe tbody tr th:only-of-type {\n",
       "        vertical-align: middle;\n",
       "    }\n",
       "\n",
       "    .dataframe tbody tr th {\n",
       "        vertical-align: top;\n",
       "    }\n",
       "\n",
       "    .dataframe thead th {\n",
       "        text-align: right;\n",
       "    }\n",
       "</style>\n",
       "<table border=\"1\" class=\"dataframe\">\n",
       "  <thead>\n",
       "    <tr style=\"text-align: right;\">\n",
       "      <th></th>\n",
       "      <th>step</th>\n",
       "      <th>type</th>\n",
       "      <th>amount</th>\n",
       "      <th>nameOrig</th>\n",
       "      <th>oldbalanceOrig</th>\n",
       "      <th>newbalanceOrig</th>\n",
       "      <th>nameDest</th>\n",
       "      <th>oldbalanceDest</th>\n",
       "      <th>newbalanceDest</th>\n",
       "      <th>isFraud</th>\n",
       "    </tr>\n",
       "  </thead>\n",
       "  <tbody>\n",
       "    <tr>\n",
       "      <th>0</th>\n",
       "      <td>1</td>\n",
       "      <td>PAYMENT</td>\n",
       "      <td>9839.64</td>\n",
       "      <td>C1231006815</td>\n",
       "      <td>170136.0</td>\n",
       "      <td>160296.36</td>\n",
       "      <td>M1979787155</td>\n",
       "      <td>0.0</td>\n",
       "      <td>0.0</td>\n",
       "      <td>0</td>\n",
       "    </tr>\n",
       "    <tr>\n",
       "      <th>1</th>\n",
       "      <td>1</td>\n",
       "      <td>PAYMENT</td>\n",
       "      <td>1864.28</td>\n",
       "      <td>C1666544295</td>\n",
       "      <td>21249.0</td>\n",
       "      <td>19384.72</td>\n",
       "      <td>M2044282225</td>\n",
       "      <td>0.0</td>\n",
       "      <td>0.0</td>\n",
       "      <td>0</td>\n",
       "    </tr>\n",
       "    <tr>\n",
       "      <th>2</th>\n",
       "      <td>1</td>\n",
       "      <td>TRANSFER</td>\n",
       "      <td>181.00</td>\n",
       "      <td>C1305486145</td>\n",
       "      <td>181.0</td>\n",
       "      <td>0.00</td>\n",
       "      <td>C553264065</td>\n",
       "      <td>0.0</td>\n",
       "      <td>0.0</td>\n",
       "      <td>1</td>\n",
       "    </tr>\n",
       "    <tr>\n",
       "      <th>3</th>\n",
       "      <td>1</td>\n",
       "      <td>CASH_OUT</td>\n",
       "      <td>181.00</td>\n",
       "      <td>C840083671</td>\n",
       "      <td>181.0</td>\n",
       "      <td>0.00</td>\n",
       "      <td>C38997010</td>\n",
       "      <td>21182.0</td>\n",
       "      <td>0.0</td>\n",
       "      <td>1</td>\n",
       "    </tr>\n",
       "    <tr>\n",
       "      <th>4</th>\n",
       "      <td>1</td>\n",
       "      <td>PAYMENT</td>\n",
       "      <td>11668.14</td>\n",
       "      <td>C2048537720</td>\n",
       "      <td>41554.0</td>\n",
       "      <td>29885.86</td>\n",
       "      <td>M1230701703</td>\n",
       "      <td>0.0</td>\n",
       "      <td>0.0</td>\n",
       "      <td>0</td>\n",
       "    </tr>\n",
       "  </tbody>\n",
       "</table>\n",
       "</div>"
      ],
      "text/plain": [
       "   step      type    amount     nameOrig  oldbalanceOrig  newbalanceOrig  \\\n",
       "0     1   PAYMENT   9839.64  C1231006815        170136.0       160296.36   \n",
       "1     1   PAYMENT   1864.28  C1666544295         21249.0        19384.72   \n",
       "2     1  TRANSFER    181.00  C1305486145           181.0            0.00   \n",
       "3     1  CASH_OUT    181.00   C840083671           181.0            0.00   \n",
       "4     1   PAYMENT  11668.14  C2048537720         41554.0        29885.86   \n",
       "\n",
       "      nameDest  oldbalanceDest  newbalanceDest  isFraud  \n",
       "0  M1979787155             0.0             0.0        0  \n",
       "1  M2044282225             0.0             0.0        0  \n",
       "2   C553264065             0.0             0.0        1  \n",
       "3    C38997010         21182.0             0.0        1  \n",
       "4  M1230701703             0.0             0.0        0  "
      ]
     },
     "execution_count": 3,
     "metadata": {},
     "output_type": "execute_result"
    }
   ],
   "source": [
    "data.head()"
   ]
  },
  {
   "cell_type": "code",
   "execution_count": 4,
   "metadata": {
    "ExecuteTime": {
     "end_time": "2023-07-03T16:16:17.586464900Z",
     "start_time": "2023-07-03T16:16:14.581648700Z"
    }
   },
   "outputs": [
    {
     "data": {
      "text/html": [
       "<div>\n",
       "<style scoped>\n",
       "    .dataframe tbody tr th:only-of-type {\n",
       "        vertical-align: middle;\n",
       "    }\n",
       "\n",
       "    .dataframe tbody tr th {\n",
       "        vertical-align: top;\n",
       "    }\n",
       "\n",
       "    .dataframe thead th {\n",
       "        text-align: right;\n",
       "    }\n",
       "</style>\n",
       "<table border=\"1\" class=\"dataframe\">\n",
       "  <thead>\n",
       "    <tr style=\"text-align: right;\">\n",
       "      <th></th>\n",
       "      <th>step</th>\n",
       "      <th>amount</th>\n",
       "      <th>oldbalanceOrig</th>\n",
       "      <th>newbalanceOrig</th>\n",
       "      <th>oldbalanceDest</th>\n",
       "      <th>newbalanceDest</th>\n",
       "      <th>isFraud</th>\n",
       "    </tr>\n",
       "  </thead>\n",
       "  <tbody>\n",
       "    <tr>\n",
       "      <th>count</th>\n",
       "      <td>6.351193e+06</td>\n",
       "      <td>6.351193e+06</td>\n",
       "      <td>6.351193e+06</td>\n",
       "      <td>6.351193e+06</td>\n",
       "      <td>6.351193e+06</td>\n",
       "      <td>6.351193e+06</td>\n",
       "      <td>6.351193e+06</td>\n",
       "    </tr>\n",
       "    <tr>\n",
       "      <th>mean</th>\n",
       "      <td>2.425553e+02</td>\n",
       "      <td>1.798155e+05</td>\n",
       "      <td>8.347957e+05</td>\n",
       "      <td>8.561696e+05</td>\n",
       "      <td>1.101043e+06</td>\n",
       "      <td>1.225372e+06</td>\n",
       "      <td>1.215047e-03</td>\n",
       "    </tr>\n",
       "    <tr>\n",
       "      <th>std</th>\n",
       "      <td>1.410676e+02</td>\n",
       "      <td>6.036310e+05</td>\n",
       "      <td>2.889959e+06</td>\n",
       "      <td>2.926073e+06</td>\n",
       "      <td>3.398924e+06</td>\n",
       "      <td>3.674293e+06</td>\n",
       "      <td>3.483635e-02</td>\n",
       "    </tr>\n",
       "    <tr>\n",
       "      <th>min</th>\n",
       "      <td>1.000000e+00</td>\n",
       "      <td>0.000000e+00</td>\n",
       "      <td>0.000000e+00</td>\n",
       "      <td>0.000000e+00</td>\n",
       "      <td>0.000000e+00</td>\n",
       "      <td>0.000000e+00</td>\n",
       "      <td>0.000000e+00</td>\n",
       "    </tr>\n",
       "    <tr>\n",
       "      <th>25%</th>\n",
       "      <td>1.550000e+02</td>\n",
       "      <td>1.338829e+04</td>\n",
       "      <td>0.000000e+00</td>\n",
       "      <td>0.000000e+00</td>\n",
       "      <td>0.000000e+00</td>\n",
       "      <td>0.000000e+00</td>\n",
       "      <td>0.000000e+00</td>\n",
       "    </tr>\n",
       "    <tr>\n",
       "      <th>50%</th>\n",
       "      <td>2.380000e+02</td>\n",
       "      <td>7.486483e+04</td>\n",
       "      <td>1.415300e+04</td>\n",
       "      <td>0.000000e+00</td>\n",
       "      <td>1.330865e+05</td>\n",
       "      <td>2.149190e+05</td>\n",
       "      <td>0.000000e+00</td>\n",
       "    </tr>\n",
       "    <tr>\n",
       "      <th>75%</th>\n",
       "      <td>3.340000e+02</td>\n",
       "      <td>2.087152e+05</td>\n",
       "      <td>1.073460e+05</td>\n",
       "      <td>1.443651e+05</td>\n",
       "      <td>9.438661e+05</td>\n",
       "      <td>1.112791e+06</td>\n",
       "      <td>0.000000e+00</td>\n",
       "    </tr>\n",
       "    <tr>\n",
       "      <th>max</th>\n",
       "      <td>6.990000e+02</td>\n",
       "      <td>9.244552e+07</td>\n",
       "      <td>5.958504e+07</td>\n",
       "      <td>4.958504e+07</td>\n",
       "      <td>3.560159e+08</td>\n",
       "      <td>3.561793e+08</td>\n",
       "      <td>1.000000e+00</td>\n",
       "    </tr>\n",
       "  </tbody>\n",
       "</table>\n",
       "</div>"
      ],
      "text/plain": [
       "               step        amount  oldbalanceOrig  newbalanceOrig  \\\n",
       "count  6.351193e+06  6.351193e+06    6.351193e+06    6.351193e+06   \n",
       "mean   2.425553e+02  1.798155e+05    8.347957e+05    8.561696e+05   \n",
       "std    1.410676e+02  6.036310e+05    2.889959e+06    2.926073e+06   \n",
       "min    1.000000e+00  0.000000e+00    0.000000e+00    0.000000e+00   \n",
       "25%    1.550000e+02  1.338829e+04    0.000000e+00    0.000000e+00   \n",
       "50%    2.380000e+02  7.486483e+04    1.415300e+04    0.000000e+00   \n",
       "75%    3.340000e+02  2.087152e+05    1.073460e+05    1.443651e+05   \n",
       "max    6.990000e+02  9.244552e+07    5.958504e+07    4.958504e+07   \n",
       "\n",
       "       oldbalanceDest  newbalanceDest       isFraud  \n",
       "count    6.351193e+06    6.351193e+06  6.351193e+06  \n",
       "mean     1.101043e+06    1.225372e+06  1.215047e-03  \n",
       "std      3.398924e+06    3.674293e+06  3.483635e-02  \n",
       "min      0.000000e+00    0.000000e+00  0.000000e+00  \n",
       "25%      0.000000e+00    0.000000e+00  0.000000e+00  \n",
       "50%      1.330865e+05    2.149190e+05  0.000000e+00  \n",
       "75%      9.438661e+05    1.112791e+06  0.000000e+00  \n",
       "max      3.560159e+08    3.561793e+08  1.000000e+00  "
      ]
     },
     "execution_count": 4,
     "metadata": {},
     "output_type": "execute_result"
    }
   ],
   "source": [
    "data.describe()"
   ]
  },
  {
   "cell_type": "code",
   "execution_count": 5,
   "metadata": {
    "ExecuteTime": {
     "end_time": "2023-07-03T16:16:17.607453800Z",
     "start_time": "2023-07-03T16:16:17.584465700Z"
    }
   },
   "outputs": [
    {
     "data": {
      "text/plain": [
       "(6351193, 10)"
      ]
     },
     "execution_count": 5,
     "metadata": {},
     "output_type": "execute_result"
    }
   ],
   "source": [
    "data.shape"
   ]
  },
  {
   "cell_type": "code",
   "execution_count": 6,
   "metadata": {
    "ExecuteTime": {
     "end_time": "2023-07-03T16:16:22.973831700Z",
     "start_time": "2023-07-03T16:16:17.603456200Z"
    }
   },
   "outputs": [],
   "source": [
    "missing_values = data.isnull().sum()"
   ]
  },
  {
   "cell_type": "code",
   "execution_count": 7,
   "metadata": {
    "ExecuteTime": {
     "end_time": "2023-07-03T16:16:22.991821700Z",
     "start_time": "2023-07-03T16:16:22.974832300Z"
    }
   },
   "outputs": [
    {
     "data": {
      "text/plain": [
       "step              0\n",
       "type              0\n",
       "amount            0\n",
       "nameOrig          0\n",
       "oldbalanceOrig    0\n",
       "newbalanceOrig    0\n",
       "nameDest          0\n",
       "oldbalanceDest    0\n",
       "newbalanceDest    0\n",
       "isFraud           0\n",
       "dtype: int64"
      ]
     },
     "execution_count": 7,
     "metadata": {},
     "output_type": "execute_result"
    }
   ],
   "source": [
    "missing_values"
   ]
  },
  {
   "cell_type": "code",
   "execution_count": 8,
   "metadata": {
    "ExecuteTime": {
     "end_time": "2023-07-03T16:16:23.153730Z",
     "start_time": "2023-07-03T16:16:22.994820Z"
    }
   },
   "outputs": [
    {
     "name": "stdout",
     "output_type": "stream",
     "text": [
      "0    6343476\n",
      "1       7717\n",
      "Name: isFraud, dtype: int64\n"
     ]
    }
   ],
   "source": [
    "\n",
    "# Count the occurrences of each class in a column\n",
    "class_counts = data['isFraud'].value_counts()\n",
    "\n",
    "# Print the total number for each class\n",
    "print(class_counts)"
   ]
  },
  {
   "cell_type": "code",
   "execution_count": 9,
   "metadata": {
    "ExecuteTime": {
     "end_time": "2023-07-03T16:16:23.750383600Z",
     "start_time": "2023-07-03T16:16:23.154728400Z"
    }
   },
   "outputs": [
    {
     "name": "stdout",
     "output_type": "stream",
     "text": [
      "CASH_OUT    2233369\n",
      "PAYMENT     2147832\n",
      "CASH_IN     1396865\n",
      "TRANSFER     531817\n",
      "DEBIT         41310\n",
      "Name: type, dtype: int64\n"
     ]
    }
   ],
   "source": [
    "class_counts = data['type'].value_counts()\n",
    "\n",
    "# Print the total number for each class\n",
    "print(class_counts)"
   ]
  },
  {
   "cell_type": "code",
   "execution_count": 10,
   "metadata": {
    "ExecuteTime": {
     "end_time": "2023-07-03T16:16:24.159148400Z",
     "start_time": "2023-07-03T16:16:23.754382100Z"
    }
   },
   "outputs": [],
   "source": [
    "data = data.drop('step', axis=1)"
   ]
  },
  {
   "cell_type": "code",
   "execution_count": 11,
   "metadata": {
    "ExecuteTime": {
     "end_time": "2023-07-03T16:16:26.470819900Z",
     "start_time": "2023-07-03T16:16:24.163146800Z"
    }
   },
   "outputs": [],
   "source": [
    "from sklearn.preprocessing import LabelEncoder\n",
    "\n",
    "# Create an instance of LabelEncoder\n",
    "label_encoder = LabelEncoder()\n",
    "\n",
    "# Fit the LabelEncoder on the 'type' column\n",
    "label_encoder.fit(data['type'])\n",
    "\n",
    "# Transform the 'type' column using the fitted LabelEncoder and replace the original column\n",
    "data['type_encoded'] = label_encoder.transform(data['type']) + 1\n"
   ]
  },
  {
   "cell_type": "code",
   "execution_count": 12,
   "metadata": {
    "ExecuteTime": {
     "end_time": "2023-07-03T16:16:26.583752600Z",
     "start_time": "2023-07-03T16:16:26.472817100Z"
    }
   },
   "outputs": [
    {
     "data": {
      "text/html": [
       "<div>\n",
       "<style scoped>\n",
       "    .dataframe tbody tr th:only-of-type {\n",
       "        vertical-align: middle;\n",
       "    }\n",
       "\n",
       "    .dataframe tbody tr th {\n",
       "        vertical-align: top;\n",
       "    }\n",
       "\n",
       "    .dataframe thead th {\n",
       "        text-align: right;\n",
       "    }\n",
       "</style>\n",
       "<table border=\"1\" class=\"dataframe\">\n",
       "  <thead>\n",
       "    <tr style=\"text-align: right;\">\n",
       "      <th></th>\n",
       "      <th>type</th>\n",
       "      <th>amount</th>\n",
       "      <th>nameOrig</th>\n",
       "      <th>oldbalanceOrig</th>\n",
       "      <th>newbalanceOrig</th>\n",
       "      <th>nameDest</th>\n",
       "      <th>oldbalanceDest</th>\n",
       "      <th>newbalanceDest</th>\n",
       "      <th>isFraud</th>\n",
       "      <th>type_encoded</th>\n",
       "    </tr>\n",
       "  </thead>\n",
       "  <tbody>\n",
       "    <tr>\n",
       "      <th>0</th>\n",
       "      <td>PAYMENT</td>\n",
       "      <td>9839.64</td>\n",
       "      <td>C1231006815</td>\n",
       "      <td>170136.0</td>\n",
       "      <td>160296.36</td>\n",
       "      <td>M1979787155</td>\n",
       "      <td>0.0</td>\n",
       "      <td>0.0</td>\n",
       "      <td>0</td>\n",
       "      <td>4</td>\n",
       "    </tr>\n",
       "    <tr>\n",
       "      <th>1</th>\n",
       "      <td>PAYMENT</td>\n",
       "      <td>1864.28</td>\n",
       "      <td>C1666544295</td>\n",
       "      <td>21249.0</td>\n",
       "      <td>19384.72</td>\n",
       "      <td>M2044282225</td>\n",
       "      <td>0.0</td>\n",
       "      <td>0.0</td>\n",
       "      <td>0</td>\n",
       "      <td>4</td>\n",
       "    </tr>\n",
       "    <tr>\n",
       "      <th>2</th>\n",
       "      <td>TRANSFER</td>\n",
       "      <td>181.00</td>\n",
       "      <td>C1305486145</td>\n",
       "      <td>181.0</td>\n",
       "      <td>0.00</td>\n",
       "      <td>C553264065</td>\n",
       "      <td>0.0</td>\n",
       "      <td>0.0</td>\n",
       "      <td>1</td>\n",
       "      <td>5</td>\n",
       "    </tr>\n",
       "    <tr>\n",
       "      <th>3</th>\n",
       "      <td>CASH_OUT</td>\n",
       "      <td>181.00</td>\n",
       "      <td>C840083671</td>\n",
       "      <td>181.0</td>\n",
       "      <td>0.00</td>\n",
       "      <td>C38997010</td>\n",
       "      <td>21182.0</td>\n",
       "      <td>0.0</td>\n",
       "      <td>1</td>\n",
       "      <td>2</td>\n",
       "    </tr>\n",
       "    <tr>\n",
       "      <th>4</th>\n",
       "      <td>PAYMENT</td>\n",
       "      <td>11668.14</td>\n",
       "      <td>C2048537720</td>\n",
       "      <td>41554.0</td>\n",
       "      <td>29885.86</td>\n",
       "      <td>M1230701703</td>\n",
       "      <td>0.0</td>\n",
       "      <td>0.0</td>\n",
       "      <td>0</td>\n",
       "      <td>4</td>\n",
       "    </tr>\n",
       "  </tbody>\n",
       "</table>\n",
       "</div>"
      ],
      "text/plain": [
       "       type    amount     nameOrig  oldbalanceOrig  newbalanceOrig  \\\n",
       "0   PAYMENT   9839.64  C1231006815        170136.0       160296.36   \n",
       "1   PAYMENT   1864.28  C1666544295         21249.0        19384.72   \n",
       "2  TRANSFER    181.00  C1305486145           181.0            0.00   \n",
       "3  CASH_OUT    181.00   C840083671           181.0            0.00   \n",
       "4   PAYMENT  11668.14  C2048537720         41554.0        29885.86   \n",
       "\n",
       "      nameDest  oldbalanceDest  newbalanceDest  isFraud  type_encoded  \n",
       "0  M1979787155             0.0             0.0        0             4  \n",
       "1  M2044282225             0.0             0.0        0             4  \n",
       "2   C553264065             0.0             0.0        1             5  \n",
       "3    C38997010         21182.0             0.0        1             2  \n",
       "4  M1230701703             0.0             0.0        0             4  "
      ]
     },
     "execution_count": 12,
     "metadata": {},
     "output_type": "execute_result"
    }
   ],
   "source": [
    "data.head()"
   ]
  },
  {
   "cell_type": "code",
   "execution_count": 13,
   "metadata": {
    "ExecuteTime": {
     "end_time": "2023-07-03T16:17:24.470910200Z",
     "start_time": "2023-07-03T16:16:26.506796800Z"
    }
   },
   "outputs": [],
   "source": [
    "from sklearn.preprocessing import LabelEncoder\n",
    "\n",
    "# Create an instance of LabelEncoder\n",
    "label_encoder = LabelEncoder()\n",
    "\n",
    "# Fit the LabelEncoder on 'nameOrig' column\n",
    "label_encoder.fit(data['nameOrig'])\n",
    "\n",
    "# Transform 'nameOrig' column using the fitted LabelEncoder\n",
    "data['nameOrig_encoded'] = label_encoder.transform(data['nameOrig'])\n",
    "\n",
    "# Fit the LabelEncoder on 'nameDest' column\n",
    "label_encoder.fit(data['nameDest'])\n",
    "\n",
    "# Transform 'nameDest' column using the fitted LabelEncoder\n",
    "data['nameDest_encoded'] = label_encoder.transform(data['nameDest'])\n"
   ]
  },
  {
   "cell_type": "code",
   "execution_count": 14,
   "metadata": {
    "ExecuteTime": {
     "end_time": "2023-07-03T16:17:24.707419Z",
     "start_time": "2023-07-03T16:17:24.474908200Z"
    }
   },
   "outputs": [
    {
     "name": "stdout",
     "output_type": "stream",
     "text": [
      "Shape of y (target): (6351193,)\n",
      "Shape of X (input features): (6351193, 8)\n"
     ]
    }
   ],
   "source": [
    "# Separate the target variable ('isFraud') from the input features\n",
    "X = data[['amount', 'oldbalanceOrig', 'newbalanceOrig', 'oldbalanceDest', 'newbalanceDest', 'nameOrig_encoded', 'nameDest_encoded', 'type_encoded']]\n",
    "y = data['isFraud']\n",
    "\n",
    "# Verify the shapes of the target and input feature datasets\n",
    "print(\"Shape of y (target):\", y.shape)\n",
    "print(\"Shape of X (input features):\", X.shape)"
   ]
  },
  {
   "cell_type": "code",
   "execution_count": 15,
   "metadata": {
    "ExecuteTime": {
     "end_time": "2023-07-03T16:17:29.157221400Z",
     "start_time": "2023-07-03T16:17:24.712416700Z"
    }
   },
   "outputs": [
    {
     "name": "stdout",
     "output_type": "stream",
     "text": [
      "Shape of X_train: (5144465, 8)\n",
      "Shape of y_train: (5144465,)\n",
      "Shape of X_val: (571608, 8)\n",
      "Shape of y_val: (571608,)\n",
      "Shape of X_test: (635120, 8)\n",
      "Shape of y_test: (635120,)\n"
     ]
    }
   ],
   "source": [
    "from sklearn.model_selection import train_test_split\n",
    "\n",
    "# Split the data into train and test sets\n",
    "X_train, X_test, y_train, y_test = train_test_split(X, y, test_size=0.1, random_state=42)\n",
    "\n",
    "# Further split the train set into train and validation sets\n",
    "X_train, X_val, y_train, y_val = train_test_split(X_train, y_train, test_size=0.1, random_state=42)\n",
    "\n",
    "# Verify the shapes of the train, validation, and test sets\n",
    "print(\"Shape of X_train:\", X_train.shape)\n",
    "print(\"Shape of y_train:\", y_train.shape)\n",
    "print(\"Shape of X_val:\", X_val.shape)\n",
    "print(\"Shape of y_val:\", y_val.shape)\n",
    "print(\"Shape of X_test:\", X_test.shape)\n",
    "print(\"Shape of y_test:\", y_test.shape)\n"
   ]
  },
  {
   "cell_type": "code",
   "execution_count": 16,
   "metadata": {
    "ExecuteTime": {
     "end_time": "2023-07-03T16:17:29.518487400Z",
     "start_time": "2023-07-03T16:17:29.155222600Z"
    }
   },
   "outputs": [],
   "source": [
    "# Define the model\n",
    "model = tf.keras.Sequential([\n",
    "    tf.keras.layers.Dense(64, activation='relu', input_shape=(8,)),\n",
    "    tf.keras.layers.Dropout(0.1),\n",
    "    tf.keras.layers.Dense(64, activation='relu'),\n",
    "    tf.keras.layers.Dropout(0.1),\n",
    "    tf.keras.layers.Dense(1, activation='sigmoid')\n",
    "])"
   ]
  },
  {
   "cell_type": "code",
   "execution_count": 17,
   "metadata": {
    "ExecuteTime": {
     "end_time": "2023-07-03T16:17:29.652411100Z",
     "start_time": "2023-07-03T16:17:29.519487800Z"
    }
   },
   "outputs": [
    {
     "name": "stdout",
     "output_type": "stream",
     "text": [
      "Model: \"sequential\"\n",
      "_________________________________________________________________\n",
      " Layer (type)                Output Shape              Param #   \n",
      "=================================================================\n",
      " dense (Dense)               (None, 64)                576       \n",
      "                                                                 \n",
      " dropout (Dropout)           (None, 64)                0         \n",
      "                                                                 \n",
      " dense_1 (Dense)             (None, 64)                4160      \n",
      "                                                                 \n",
      " dropout_1 (Dropout)         (None, 64)                0         \n",
      "                                                                 \n",
      " dense_2 (Dense)             (None, 1)                 65        \n",
      "                                                                 \n",
      "=================================================================\n",
      "Total params: 4,801\n",
      "Trainable params: 4,801\n",
      "Non-trainable params: 0\n",
      "_________________________________________________________________\n"
     ]
    }
   ],
   "source": [
    "# Print the model summary\n",
    "model.summary()"
   ]
  },
  {
   "cell_type": "code",
   "execution_count": 18,
   "metadata": {
    "ExecuteTime": {
     "end_time": "2023-07-03T16:17:29.655408900Z",
     "start_time": "2023-07-03T16:17:29.582450400Z"
    }
   },
   "outputs": [],
   "source": [
    "# Compile the model\n",
    "learning_rate = 0.5\n",
    "optimizer = tf.keras.optimizers.Adam(learning_rate=learning_rate)\n",
    "model.compile(optimizer=optimizer,\n",
    "              loss='binary_crossentropy',\n",
    "              metrics=['accuracy'])\n"
   ]
  },
  {
   "cell_type": "code",
   "execution_count": 19,
   "metadata": {
    "ExecuteTime": {
     "end_time": "2023-07-03T16:17:29.681399300Z",
     "start_time": "2023-07-03T16:17:29.647415Z"
    }
   },
   "outputs": [],
   "source": [
    "# Define early stopping callback\n",
    "early_stopping = tf.keras.callbacks.EarlyStopping(patience=5)\n"
   ]
  },
  {
   "cell_type": "code",
   "execution_count": 20,
   "metadata": {
    "ExecuteTime": {
     "end_time": "2023-07-03T18:19:10.099437200Z",
     "start_time": "2023-07-03T16:17:29.677398200Z"
    }
   },
   "outputs": [
    {
     "name": "stdout",
     "output_type": "stream",
     "text": [
      "Epoch 1/40\n",
      "160765/160765 [==============================] - 603s 4ms/step - loss: 26.6832 - accuracy: 0.9988 - val_loss: 0.0092 - val_accuracy: 0.9988\n",
      "Epoch 2/40\n",
      "160765/160765 [==============================] - 583s 4ms/step - loss: 0.0094 - accuracy: 0.9988 - val_loss: 0.0092 - val_accuracy: 0.9988\n",
      "Epoch 3/40\n",
      "160765/160765 [==============================] - 570s 4ms/step - loss: 0.0227 - accuracy: 0.9988 - val_loss: 0.0092 - val_accuracy: 0.9988\n",
      "Epoch 4/40\n",
      "160765/160765 [==============================] - 563s 4ms/step - loss: 0.0094 - accuracy: 0.9988 - val_loss: 0.0092 - val_accuracy: 0.9988\n",
      "Epoch 5/40\n",
      "160765/160765 [==============================] - 562s 3ms/step - loss: 1.8622 - accuracy: 0.9988 - val_loss: 0.0092 - val_accuracy: 0.9988\n",
      "Epoch 6/40\n",
      "160765/160765 [==============================] - 560s 3ms/step - loss: 0.0094 - accuracy: 0.9988 - val_loss: 0.0092 - val_accuracy: 0.9988\n",
      "Epoch 7/40\n",
      "160765/160765 [==============================] - 557s 3ms/step - loss: 0.0094 - accuracy: 0.9988 - val_loss: 0.0092 - val_accuracy: 0.9988\n",
      "Epoch 8/40\n",
      "160765/160765 [==============================] - 558s 3ms/step - loss: 0.0094 - accuracy: 0.9988 - val_loss: 0.0092 - val_accuracy: 0.9988\n",
      "Epoch 9/40\n",
      "160765/160765 [==============================] - 554s 3ms/step - loss: 1.1645 - accuracy: 0.9988 - val_loss: 0.0092 - val_accuracy: 0.9988\n",
      "Epoch 10/40\n",
      "160765/160765 [==============================] - 551s 3ms/step - loss: 0.0272 - accuracy: 0.9988 - val_loss: 0.0092 - val_accuracy: 0.9988\n",
      "Epoch 11/40\n",
      "160765/160765 [==============================] - 547s 3ms/step - loss: 0.0178 - accuracy: 0.9988 - val_loss: 0.0092 - val_accuracy: 0.9988\n",
      "Epoch 12/40\n",
      "160765/160765 [==============================] - 546s 3ms/step - loss: 0.0094 - accuracy: 0.9988 - val_loss: 0.0092 - val_accuracy: 0.9988\n",
      "Epoch 13/40\n",
      "160765/160765 [==============================] - 546s 3ms/step - loss: 0.0094 - accuracy: 0.9988 - val_loss: 0.0092 - val_accuracy: 0.9988\n"
     ]
    }
   ],
   "source": [
    "\n",
    "\n",
    "# Train the model\n",
    "history = model.fit(X_train, y_train,\n",
    "                    validation_data=(X_val, y_val),\n",
    "                    batch_size=32,\n",
    "                    epochs=40,\n",
    "                    callbacks=[early_stopping],\n",
    "                    verbose=1)"
   ]
  },
  {
   "cell_type": "code",
   "execution_count": 21,
   "metadata": {
    "ExecuteTime": {
     "end_time": "2023-07-03T18:19:10.115425Z",
     "start_time": "2023-07-03T18:19:10.101433600Z"
    }
   },
   "outputs": [
    {
     "data": {
      "text/plain": [
       "{'loss': [26.68317413330078,\n",
       "  0.009449454955756664,\n",
       "  0.022723546251654625,\n",
       "  0.009413035586476326,\n",
       "  1.862204909324646,\n",
       "  0.009415881708264351,\n",
       "  0.00941273383796215,\n",
       "  0.009413707070052624,\n",
       "  1.1645053625106812,\n",
       "  0.027180058881640434,\n",
       "  0.017798759043216705,\n",
       "  0.009413570165634155,\n",
       "  0.009414643049240112],\n",
       " 'accuracy': [0.9987577199935913,\n",
       "  0.9987837672233582,\n",
       "  0.9987831711769104,\n",
       "  0.998782753944397,\n",
       "  0.9987818002700806,\n",
       "  0.998782753944397,\n",
       "  0.998782753944397,\n",
       "  0.998782753944397,\n",
       "  0.9987825751304626,\n",
       "  0.9987825751304626,\n",
       "  0.9987825751304626,\n",
       "  0.998782753944397,\n",
       "  0.998782753944397],\n",
       " 'val_loss': [0.009168107993900776,\n",
       "  0.009190634824335575,\n",
       "  0.009168940596282482,\n",
       "  0.009177125990390778,\n",
       "  0.0091665955260396,\n",
       "  0.009214377962052822,\n",
       "  0.00924624502658844,\n",
       "  0.009165830910205841,\n",
       "  0.00917899888008833,\n",
       "  0.009168504737317562,\n",
       "  0.009202152490615845,\n",
       "  0.00919413659721613,\n",
       "  0.009171023964881897],\n",
       " 'val_accuracy': [0.9988155961036682,\n",
       "  0.9988155961036682,\n",
       "  0.9988155961036682,\n",
       "  0.9988155961036682,\n",
       "  0.9988155961036682,\n",
       "  0.9988155961036682,\n",
       "  0.9988155961036682,\n",
       "  0.9988155961036682,\n",
       "  0.9988155961036682,\n",
       "  0.9988155961036682,\n",
       "  0.9988155961036682,\n",
       "  0.9988155961036682,\n",
       "  0.9988155961036682]}"
      ]
     },
     "execution_count": 21,
     "metadata": {},
     "output_type": "execute_result"
    }
   ],
   "source": [
    "history.history"
   ]
  },
  {
   "cell_type": "code",
   "execution_count": 22,
   "metadata": {
    "ExecuteTime": {
     "end_time": "2023-07-03T18:19:10.678101500Z",
     "start_time": "2023-07-03T18:19:10.118423800Z"
    }
   },
   "outputs": [
    {
     "data": {
      "image/png": "[encoded data removed]",
      "text/plain": [
       "<Figure size 640x480 with 1 Axes>"
      ]
     },
     "metadata": {},
     "output_type": "display_data"
    }
   ],
   "source": [
    "fig = plt.figure()\n",
    "plt.plot(history.history['loss'], color='blue', label='loss')\n",
    "plt.plot(history.history['val_loss'], color='green', label='val_loss')\n",
    "fig.suptitle('LOSS OF TRAIN AND VAL', fontsize=30)\n",
    "plt.legend(loc=\"upper left\")\n",
    "plt.show()"
   ]
  },
  {
   "cell_type": "code",
   "execution_count": 23,
   "metadata": {
    "ExecuteTime": {
     "end_time": "2023-07-03T18:19:11.171817700Z",
     "start_time": "2023-07-03T18:19:10.675103100Z"
    }
   },
   "outputs": [
    {
     "data": {
      "image/png": "[encoded data removed]",
      "text/plain": [
       "<Figure size 640x480 with 1 Axes>"
      ]
     },
     "metadata": {},
     "output_type": "display_data"
    }
   ],
   "source": [
    "fig = plt.figure()\n",
    "plt.plot(history.history['accuracy'], color='blue', label='accuracy')\n",
    "plt.plot(history.history['val_accuracy'], color='green', label='val_accuracy')\n",
    "fig.suptitle('ACCURACY OF TRAIN AND VAL', fontsize=30)\n",
    "plt.legend(loc=\"upper left\")\n",
    "plt.show()"
   ]
  },
  {
   "cell_type": "code",
   "execution_count": 24,
   "metadata": {
    "ExecuteTime": {
     "end_time": "2023-07-03T18:19:45.534229900Z",
     "start_time": "2023-07-03T18:19:11.171817700Z"
    }
   },
   "outputs": [
    {
     "name": "stdout",
     "output_type": "stream",
     "text": [
      "19848/19848 [==============================] - 34s 2ms/step - loss: 0.0094 - accuracy: 0.9988\n",
      "Test Loss: 0.00944915134459734\n",
      "Test Accuracy: 0.9987750053405762\n"
     ]
    }
   ],
   "source": [
    "\n",
    "# Evaluate the model on the test set\n",
    "test_loss, test_accuracy = model.evaluate(X_test, y_test)\n",
    "print(\"Test Loss:\", test_loss)\n",
    "print(\"Test Accuracy:\", test_accuracy)"
   ]
  },
  {
   "cell_type": "code",
   "execution_count": 25,
   "metadata": {
    "ExecuteTime": {
     "end_time": "2023-07-04T07:13:02.731504700Z",
     "start_time": "2023-07-04T07:13:02.579551700Z"
    }
   },
   "outputs": [],
   "source": [
    "#Save the model\n",
    "model.save('Fraud_detection_model.h5')"
   ]
  }
 ],
 "metadata": {
  "kernelspec": {
   "display_name": "Python 3 (ipykernel)",
   "language": "python",
   "name": "python3"
  },
  "language_info": {
   "codemirror_mode": {
    "name": "ipython",
    "version": 3
   },
   "file_extension": ".py",
   "mimetype": "text/x-python",
   "name": "python",
   "nbconvert_exporter": "python",
   "pygments_lexer": "ipython3",
   "version": "3.10.10"
  }
 },
 "nbformat": 4,
 "nbformat_minor": 1
}
